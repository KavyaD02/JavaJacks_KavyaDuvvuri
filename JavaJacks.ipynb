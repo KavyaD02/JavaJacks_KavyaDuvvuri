{
 "cells": [
  {
   "cell_type": "markdown",
   "id": "96e2b02b",
   "metadata": {},
   "source": [
    "# River Water Purity Observation and Analysis"
   ]
  },
  {
   "cell_type": "markdown",
   "id": "db7aa770",
   "metadata": {},
   "source": [
    "## Team: Java Jacks"
   ]
  },
  {
   "cell_type": "markdown",
   "id": "4d9723c3",
   "metadata": {},
   "source": [
    "### Team Members: "
   ]
  },
  {
   "cell_type": "markdown",
   "id": "a70faef7",
   "metadata": {},
   "source": [
    "Arlagadda Naga Likhith\n",
    "\n",
    "Kanisettypalli Karthik\n",
    "    \n",
    "Kavya Duvvuri\n",
    "\n",
    "P Nandieswar Reddy"
   ]
  },
  {
   "cell_type": "code",
   "execution_count": 1,
   "id": "31932b7d",
   "metadata": {},
   "outputs": [
    {
     "name": "stdout",
     "output_type": "stream",
     "text": [
      "Enter the Dataset Address: D:\\Transfer Files\\Kavya SEM 3\\Java Jacks\\Godavari_River.csv\n"
     ]
    }
   ],
   "source": [
    "import pandas as pd\n",
    "from matplotlib import pyplot as plt\n",
    "datasetAddress = str(input(\"Enter the Dataset Address: \"))\n",
    "riverData = pd.read_csv(datasetAddress)\n",
    "filteredData = riverData.dropna()"
   ]
  },
  {
   "cell_type": "code",
   "execution_count": 2,
   "id": "fec1097a",
   "metadata": {},
   "outputs": [],
   "source": [
    "chlorinationTotal = filteredData.loc[(filteredData[\"TOTAL_COLIFORM\"] > 2.2) & (filteredData[\"TOTAL_COLIFORM\"] < 10), :]\n",
    "chlorinationCount = len(chlorinationTotal)\n",
    "UVTotal = filteredData.loc[(filteredData[\"TOTAL_COLIFORM\"] > 10) & (filteredData[\"TOTAL_COLIFORM\"] < 1000), :]\n",
    "UVCount = len(UVTotal)\n",
    "OzonationTotal = filteredData.loc[(filteredData[\"TOTAL_COLIFORM\"] > 1000), :]\n",
    "OzonationCount = len(OzonationTotal)\n",
    "plantsColiformTotal = filteredData.loc[(filteredData[\"TOTAL_COLIFORM\"] < 200), :]\n",
    "plantsColiformCount = len(plantsColiformTotal)"
   ]
  },
  {
   "cell_type": "code",
   "execution_count": 3,
   "id": "e9fbd159",
   "metadata": {},
   "outputs": [
    {
     "data": {
      "image/png": "[encoded data removed]",
      "text/plain": [
       "<Figure size 432x288 with 1 Axes>"
      ]
     },
     "metadata": {},
     "output_type": "display_data"
    }
   ],
   "source": [
    "fig = plt.figure()\n",
    "ax = fig.add_axes([0,0,1,1])\n",
    "ax.axis('equal')\n",
    "coliformTechniques = [\"Chlorination\", \"Ultraviolet Light\", \"Ozonation\"]\n",
    "coliformCount = [chlorinationCount, UVCount, OzonationCount]\n",
    "coliformColors = ['#66b3ff','#99ff99', '#ff9999']\n",
    "ax.pie(coliformCount, labels = coliformTechniques, autopct='%1.2f%%', shadow = True, colors = coliformColors)\n",
    "plt.show()"
   ]
  },
  {
   "cell_type": "code",
   "execution_count": 4,
   "id": "97ee8eac",
   "metadata": {},
   "outputs": [
    {
     "name": "stdout",
     "output_type": "stream",
     "text": [
      "Locations where Chlorination must be done: \n",
      "\n"
     ]
    },
    {
     "data": {
      "text/plain": [
       "Series([], Name: LOCATIONS, dtype: object)"
      ]
     },
     "execution_count": 4,
     "metadata": {},
     "output_type": "execute_result"
    }
   ],
   "source": [
    "print(\"Locations where Chlorination must be done: \")\n",
    "print()\n",
    "chlorinationTotal[\"LOCATIONS\"]"
   ]
  },
  {
   "cell_type": "code",
   "execution_count": 5,
   "id": "8b9ec6eb",
   "metadata": {},
   "outputs": [
    {
     "name": "stdout",
     "output_type": "stream",
     "text": [
      "Locations where UV Light purification must be done: \n",
      "\n"
     ]
    },
    {
     "data": {
      "text/plain": [
       "0     GODAVARI AT JAYAKWADI DAM, AURNAGABAD,MAHARASHTRA\n",
       "1                 GODAVARI RIVER NEAR SOMESHWAR TEMPLE.\n",
       "2                           GODAVARI RIVER AT SAIKHEDA.\n",
       "3          GODAVARI RIVER AT HANUMAN GHAT, NASHIK CITY.\n",
       "4             GODAVARI RIVER AT NANDUR- MADMESHWAR DAM.\n",
       "5     GODAVARI RIVER AT KAPILA- GODAVARI CONFLUENCE ...\n",
       "6                          GODAVARI RIVER NEAR TAPOVAN.\n",
       "7         GODAVARI AT PANCHAVATI AT RAMKUND,MAHARASHTRA\n",
       "8                    GODAVARI AT NASIK D/S, MAHARASHTRA\n",
       "9     GODAVARI AT U/S OF GANGAPUR DAM,NASIK,MAHARASHTRA\n",
       "10    GODAVARI RIVER AT U/S OF AURANGABAD RESERVOIR,...\n",
       "11    GODAVARI RIVER AT U/S OF PAITHAN AT PAITHAN IN...\n",
       "12    GODAVARI RIVER AT D/S OF PAITHAN AT PATHEGAON ...\n",
       "13    GODAVARI RIVER AT JALNA INTAKE WATER PUMP HOUS...\n",
       "14                   GODAVARI AT DHALEGAON, MAHARASHTRA\n",
       "15                       GODAVARI AT RAHER, MAHARASHTRA\n",
       "16    GODAVARI RIVER AT LATUR WATER INTAKE NEAR PUMP...\n",
       "17                         GODAVARI AT BASARA, ADILABAD\n",
       "18    GODAVARI  AT MANCHERIAL, NEAR RLY BDG B/C OF R...\n",
       "19    GODAVARI AT RAMAGUNDAM D/S, NEAR FCI INTAKE WE...\n",
       "21              GODAVARI AT RAMAGUNDAM U/S , KARIMNAGAR\n",
       "22                      GODAVARI,  D/S OF RAMANUGUNDAM,\n",
       "23    GODAVARI AT KAMALPUR U/S M/S AP RAYONS LTD. IN...\n",
       "24    GODAVARI AT KAMALPUR D/S AT M/S. AP RAYONS LTD...\n",
       "25                         GODAVARI AT MANCHERIAL, A.P.\n",
       "26    GODAVARI AT BHADRACHALAM U/S BATHING GHAT, KHA...\n",
       "29          GODAVARI AT RAJAMUNDRY U/S OF NALLA CHANNEL\n",
       "30                          GODAVARI AT POLAVARAM, A.P.\n",
       "31                    GODAVARI AT RAJAHMUNDRY U/S, A.P.\n",
       "Name: LOCATIONS, dtype: object"
      ]
     },
     "execution_count": 5,
     "metadata": {},
     "output_type": "execute_result"
    }
   ],
   "source": [
    "print(\"Locations where UV Light purification must be done: \")\n",
    "print()\n",
    "UVTotal[\"LOCATIONS\"]"
   ]
  },
  {
   "cell_type": "code",
   "execution_count": 6,
   "id": "76e4f4fc",
   "metadata": {},
   "outputs": [
    {
     "name": "stdout",
     "output_type": "stream",
     "text": [
      "Locations where Ozonation must be done: \n",
      "\n"
     ]
    },
    {
     "data": {
      "text/plain": [
       "20    GODAVARI AT GODAVARIKHANI, NEAR BATHING GHAT, ...\n",
       "27    GODAVARI AT BHADRACHALAM D/S BATHING GHAT, KHA...\n",
       "28                     GODAVARI AT BURGAMPAHAD, KHAMMAM\n",
       "32          GODAVARI AT RAJAMUNDRY D/S OF NALLA CHANNEL\n",
       "Name: LOCATIONS, dtype: object"
      ]
     },
     "execution_count": 6,
     "metadata": {},
     "output_type": "execute_result"
    }
   ],
   "source": [
    "print(\"Locations where Ozonation must be done: \")\n",
    "print()\n",
    "OzonationTotal[\"LOCATIONS\"]"
   ]
  },
  {
   "cell_type": "code",
   "execution_count": 7,
   "id": "f152df4e",
   "metadata": {},
   "outputs": [],
   "source": [
    "conductivity = filteredData.loc[(filteredData[\"CONDUCTIVITY\"] > 200) & (filteredData[\"CONDUCTIVITY\"] < 1000), :]\n",
    "conductivityCount = len(conductivity)\n",
    "nonDrinkingWater = len(filteredData) - conductivityCount"
   ]
  },
  {
   "cell_type": "code",
   "execution_count": 8,
   "id": "b2246037",
   "metadata": {},
   "outputs": [],
   "source": [
    "drinkingDO = filteredData.loc[(filteredData[\"DO\"] > 0.1) & (filteredData[\"DO\"] < 0.3), :]\n",
    "drinkingDOCount = len(drinkingDO)\n",
    "agriculturalDO = filteredData.loc[(filteredData[\"DO\"] > 0.008), :]\n",
    "agriculturalDOCount = len(agriculturalDO)"
   ]
  },
  {
   "cell_type": "code",
   "execution_count": 9,
   "id": "c060b1b8",
   "metadata": {},
   "outputs": [],
   "source": [
    "drinkingBOD = filteredData.loc[(filteredData[\"BOD\"] > 1) & (filteredData[\"BOD\"] < 2), :]\n",
    "drinkingBODCount = len(drinkingBOD)\n",
    "agriculturalBOD = filteredData.loc[(filteredData[\"BOD\"] > 0.01), :]\n",
    "agriculturalBODCount = len(agriculturalBOD)"
   ]
  },
  {
   "cell_type": "code",
   "execution_count": 10,
   "id": "334ff966",
   "metadata": {},
   "outputs": [],
   "source": [
    "drinkingPH = filteredData.loc[(filteredData[\"pH\"] > 6.5) & (filteredData[\"pH\"] < 8), :]\n",
    "drinkingPHCount = len(drinkingPH)\n",
    "agriculturalPH = filteredData.loc[(filteredData[\"pH\"] > 6.5) & (filteredData[\"pH\"] < 8.4), :]\n",
    "agriculturalPHCount = len(agriculturalPH)"
   ]
  },
  {
   "cell_type": "code",
   "execution_count": 11,
   "id": "50c07734",
   "metadata": {},
   "outputs": [],
   "source": [
    "drinkingNitriteNitrogen = filteredData.loc[(filteredData[\"NITRATE_N_NITRITE_N\"] < 1), :]\n",
    "drinkingNitriteNitrogenCount = len(drinkingNitriteNitrogen)\n",
    "agricultureNitrogen = filteredData.loc[(filteredData[\"NITRATE_N_NITRITE_N\"] >= 1), :]\n",
    "agricultureNitrogenCount = len(agricultureNitrogen)"
   ]
  },
  {
   "cell_type": "code",
   "execution_count": 12,
   "id": "77fc3d74",
   "metadata": {},
   "outputs": [
    {
     "name": "stdout",
     "output_type": "stream",
     "text": [
      "Locations with Drinking Water: \n"
     ]
    },
    {
     "data": {
      "text/plain": [
       "33    GODAVARI IDEAL 1\n",
       "34    GODAVARI IDEAL 2\n",
       "35    GODAVARI IDEAL 3\n",
       "36    GODAVARI IDEAL 4\n",
       "37    GODAVARI IDEAL 5\n",
       "Name: LOCATIONS, dtype: object"
      ]
     },
     "execution_count": 12,
     "metadata": {},
     "output_type": "execute_result"
    }
   ],
   "source": [
    "drinkable = filteredData.loc[(filteredData[\"TOTAL_COLIFORM\"] < 2.2) & (filteredData[\"CONDUCTIVITY\"] > 200) & (filteredData[\"CONDUCTIVITY\"] < 1000) & (filteredData[\"BOD\"] > 1) & (filteredData[\"BOD\"] < 2) & (filteredData[\"pH\"] > 6.5) & (filteredData[\"pH\"] < 8) & (filteredData[\"NITRATE_N_NITRITE_N\"] < 1) & (filteredData[\"DO\"] > 0.1) & (filteredData[\"DO\"] < 0.3), :]\n",
    "irrigation = filteredData.loc[(filteredData[\"TOTAL_COLIFORM\"] < 1000) & (filteredData[\"CONDUCTIVITY\"] > 100) & (filteredData[\"CONDUCTIVITY\"] < 3000) & (filteredData[\"BOD\"] > 0.01) & (filteredData[\"pH\"] > 6.5) & (filteredData[\"pH\"] < 8.4) & (filteredData[\"NITRATE_N_NITRITE_N\"] >= 1) & (filteredData[\"DO\"] > 0.008), :]\n",
    "print(\"Locations with Drinking Water: \")\n",
    "drinkable[\"LOCATIONS\"]"
   ]
  },
  {
   "cell_type": "code",
   "execution_count": 13,
   "id": "39ca1d7d",
   "metadata": {},
   "outputs": [
    {
     "name": "stdout",
     "output_type": "stream",
     "text": [
      "\n",
      "Locations with Agricultural Water: \n"
     ]
    },
    {
     "data": {
      "text/plain": [
       "0     GODAVARI AT JAYAKWADI DAM, AURNAGABAD,MAHARASHTRA\n",
       "1                 GODAVARI RIVER NEAR SOMESHWAR TEMPLE.\n",
       "2                           GODAVARI RIVER AT SAIKHEDA.\n",
       "3          GODAVARI RIVER AT HANUMAN GHAT, NASHIK CITY.\n",
       "4             GODAVARI RIVER AT NANDUR- MADMESHWAR DAM.\n",
       "5     GODAVARI RIVER AT KAPILA- GODAVARI CONFLUENCE ...\n",
       "6                          GODAVARI RIVER NEAR TAPOVAN.\n",
       "7         GODAVARI AT PANCHAVATI AT RAMKUND,MAHARASHTRA\n",
       "8                    GODAVARI AT NASIK D/S, MAHARASHTRA\n",
       "9     GODAVARI AT U/S OF GANGAPUR DAM,NASIK,MAHARASHTRA\n",
       "10    GODAVARI RIVER AT U/S OF AURANGABAD RESERVOIR,...\n",
       "11    GODAVARI RIVER AT U/S OF PAITHAN AT PAITHAN IN...\n",
       "12    GODAVARI RIVER AT D/S OF PAITHAN AT PATHEGAON ...\n",
       "13    GODAVARI RIVER AT JALNA INTAKE WATER PUMP HOUS...\n",
       "14                   GODAVARI AT DHALEGAON, MAHARASHTRA\n",
       "15                       GODAVARI AT RAHER, MAHARASHTRA\n",
       "16    GODAVARI RIVER AT LATUR WATER INTAKE NEAR PUMP...\n",
       "17                         GODAVARI AT BASARA, ADILABAD\n",
       "26    GODAVARI AT BHADRACHALAM U/S BATHING GHAT, KHA...\n",
       "29          GODAVARI AT RAJAMUNDRY U/S OF NALLA CHANNEL\n",
       "30                          GODAVARI AT POLAVARAM, A.P.\n",
       "31                    GODAVARI AT RAJAHMUNDRY U/S, A.P.\n",
       "Name: LOCATIONS, dtype: object"
      ]
     },
     "execution_count": 13,
     "metadata": {},
     "output_type": "execute_result"
    }
   ],
   "source": [
    "print()\n",
    "print(\"Locations with Agricultural Water: \")\n",
    "irrigation[\"LOCATIONS\"]"
   ]
  },
  {
   "cell_type": "code",
   "execution_count": 14,
   "id": "da6d4e16",
   "metadata": {},
   "outputs": [],
   "source": [
    "drinkableWater = len(drinkable)\n",
    "nonDrinkableWater = len(filteredData) - drinkableWater\n",
    "irrigationWater = len(irrigation)\n",
    "nonAgriculturalWater = len(filteredData) - irrigationWater"
   ]
  },
  {
   "cell_type": "code",
   "execution_count": 15,
   "id": "2a8b80f5",
   "metadata": {},
   "outputs": [
    {
     "data": {
      "image/png": "[encoded data removed]",
      "text/plain": [
       "<Figure size 432x288 with 1 Axes>"
      ]
     },
     "metadata": {},
     "output_type": "display_data"
    }
   ],
   "source": [
    "fig = plt.figure()\n",
    "ax = fig.add_axes([0,0,1,1])\n",
    "ax.axis('equal')\n",
    "finalDrinkableWater = [\"Drinkable\", \"Non-Drinkable\"]\n",
    "finalDrinkableValues = [drinkableWater, nonDrinkableWater]\n",
    "finalDrinkableColors = ['#ff9999', '#66b3ff']\n",
    "ax.pie(finalDrinkableValues, labels = finalDrinkableWater, autopct = '%1.2f%%', shadow = True, colors = finalDrinkableColors)\n",
    "plt.show()"
   ]
  },
  {
   "cell_type": "code",
   "execution_count": 16,
   "id": "7232a77d",
   "metadata": {},
   "outputs": [
    {
     "data": {
      "image/png": "[encoded data removed]",
      "text/plain": [
       "<Figure size 432x288 with 1 Axes>"
      ]
     },
     "metadata": {},
     "output_type": "display_data"
    }
   ],
   "source": [
    "fig = plt.figure()\n",
    "ax = fig.add_axes([0,0,1,1])\n",
    "ax.axis('equal')\n",
    "finalAgriculWater = [\"Agricultural\", \"Non-Agricultural\"]\n",
    "finalAgriculValues = [irrigationWater, nonAgriculturalWater]\n",
    "finalAgriculColors = ['#99ff99', '#66b3ff']\n",
    "ax.pie(finalAgriculValues, labels = finalAgriculWater, autopct = '%1.2f%%', shadow = True, colors = finalAgriculColors)\n",
    "plt.show()"
   ]
  }
 ],
 "metadata": {
  "kernelspec": {
   "display_name": "Python 3",
   "language": "python",
   "name": "python3"
  },
  "language_info": {
   "codemirror_mode": {
    "name": "ipython",
    "version": 3
   },
   "file_extension": ".py",
   "mimetype": "text/x-python",
   "name": "python",
   "nbconvert_exporter": "python",
   "pygments_lexer": "ipython3",
   "version": "3.8.8"
  }
 },
 "nbformat": 4,
 "nbformat_minor": 5
}
